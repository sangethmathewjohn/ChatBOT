{
 "cells": [
  {
   "cell_type": "code",
   "execution_count": 303,
   "metadata": {},
   "outputs": [
    {
     "name": "stdout",
     "output_type": "stream",
     "text": [
      "huggingface/tokenizers: The current process just got forked, after parallelism has already been used. Disabling parallelism to avoid deadlocks...\n",
      "To disable this warning, you can either:\n",
      "\t- Avoid using `tokenizers` before the fork if possible\n",
      "\t- Explicitly set the environment variable TOKENIZERS_PARALLELISM=(true | false)\n"
     ]
    }
   ],
   "source": [
    "! pip install -q -r requirements.txt"
   ]
  },
  {
   "cell_type": "markdown",
   "metadata": {},
   "source": [
    "# Data Collection from WikiPedia!"
   ]
  },
  {
   "cell_type": "code",
   "execution_count": 304,
   "metadata": {},
   "outputs": [],
   "source": [
    "import wikipedia\n",
    "text = wikipedia.page(\"OpenAI\")"
   ]
  },
  {
   "cell_type": "code",
   "execution_count": 305,
   "metadata": {},
   "outputs": [],
   "source": [
    "with open(\"example.txt\",'w') as f:\n",
    "    f.write(text.content)\n",
    "    f.close()"
   ]
  },
  {
   "cell_type": "markdown",
   "metadata": {},
   "source": [
    "# Data Preprocessing"
   ]
  },
  {
   "cell_type": "code",
   "execution_count": 306,
   "metadata": {},
   "outputs": [],
   "source": [
    "import pandas as pd\n",
    "\n",
    "texts =[] # list to store the text\n",
    "\n",
    "# open and read the file\n",
    "with open(\"example.txt\",'r') as f:\n",
    "    text = f.read()"
   ]
  },
  {
   "cell_type": "markdown",
   "metadata": {},
   "source": [
    "### Tokenizer"
   ]
  },
  {
   "cell_type": "code",
   "execution_count": 307,
   "metadata": {},
   "outputs": [
    {
     "data": {
      "text/plain": [
       "5877"
      ]
     },
     "execution_count": 307,
     "metadata": {},
     "output_type": "execute_result"
    }
   ],
   "source": [
    "import tiktoken\n",
    "tokenizer = tiktoken.get_encoding('cl100k_base') # Load the cl100k_base tokenizer (ada-002 model)\n",
    "tokens = tokenizer.encode(text)\n",
    "len(tokens)"
   ]
  },
  {
   "cell_type": "markdown",
   "metadata": {},
   "source": [
    "### Spliting Text File"
   ]
  },
  {
   "cell_type": "code",
   "execution_count": 308,
   "metadata": {},
   "outputs": [
    {
     "data": {
      "text/plain": [
       "196"
      ]
     },
     "execution_count": 308,
     "metadata": {},
     "output_type": "execute_result"
    }
   ],
   "source": [
    "\n",
    "sentences = text.split('.') # split sentences\n",
    "n_tokens = [len(tokenizer.encode(\" \"+ sentence)) for sentence in sentences]\n",
    "len(n_tokens)"
   ]
  },
  {
   "cell_type": "code",
   "execution_count": 309,
   "metadata": {},
   "outputs": [
    {
     "data": {
      "text/plain": [
       "72"
      ]
     },
     "execution_count": 309,
     "metadata": {},
     "output_type": "execute_result"
    }
   ],
   "source": [
    "chunks = []\n",
    "max_tokens = 100\n",
    "tokens_so_far = 0\n",
    "chunk = []\n",
    "\n",
    "#splitting sentence based on the maximum tokens\n",
    "for sentence, token in zip(sentences,n_tokens): #\n",
    "    if token + tokens_so_far > max_tokens: \n",
    "        chunks.append(\". \".join(chunk) + \".\")\n",
    "        chunk = []\n",
    "        tokens_so_far = 0\n",
    "    \n",
    "    if token>max_tokens:\n",
    "        continue\n",
    "    \n",
    "    chunk.append(sentence)\n",
    "    tokens_so_far += token + 1\n",
    "len(chunks)"
   ]
  },
  {
   "cell_type": "code",
   "execution_count": 311,
   "metadata": {},
   "outputs": [
    {
     "data": {
      "text/plain": [
       "<Axes: >"
      ]
     },
     "execution_count": 311,
     "metadata": {},
     "output_type": "execute_result"
    },
    {
     "data": {
      "image/png": "[encoded data removed]",
      "text/plain": [
       "<Figure size 640x480 with 1 Axes>"
      ]
     },
     "metadata": {},
     "output_type": "display_data"
    }
   ],
   "source": [
    "# creating data frame with splitted sentences and corresonding tokens\n",
    "df = pd.DataFrame(chunks, columns = ['text'])\n",
    "df['n_tokens'] = df.text.apply(lambda x: len(tokenizer.encode(x)))\n",
    "df.n_tokens.hist()"
   ]
  },
  {
   "cell_type": "markdown",
   "metadata": {},
   "source": [
    "# Create Embeddings"
   ]
  },
  {
   "cell_type": "markdown",
   "metadata": {},
   "source": [
    "### Intialise embedding model"
   ]
  },
  {
   "cell_type": "code",
   "execution_count": 312,
   "metadata": {},
   "outputs": [],
   "source": [
    "from sentence_transformers import SentenceTransformer\n",
    "model_name = 'msmarco-distilbert-base-tas-b'\n",
    "model = SentenceTransformer(model_name)"
   ]
  },
  {
   "cell_type": "markdown",
   "metadata": {},
   "source": [
    "### create embeddings"
   ]
  },
  {
   "cell_type": "code",
   "execution_count": 313,
   "metadata": {},
   "outputs": [],
   "source": [
    "sentences = df['text'].tolist()\n",
    "embeddings = model.encode(sentences)"
   ]
  },
  {
   "cell_type": "code",
   "execution_count": 314,
   "metadata": {},
   "outputs": [
    {
     "data": {
      "text/html": [
       "<div>\n",
       "<style scoped>\n",
       "    .dataframe tbody tr th:only-of-type {\n",
       "        vertical-align: middle;\n",
       "    }\n",
       "\n",
       "    .dataframe tbody tr th {\n",
       "        vertical-align: top;\n",
       "    }\n",
       "\n",
       "    .dataframe thead th {\n",
       "        text-align: right;\n",
       "    }\n",
       "</style>\n",
       "<table border=\"1\" class=\"dataframe\">\n",
       "  <thead>\n",
       "    <tr style=\"text-align: right;\">\n",
       "      <th></th>\n",
       "      <th>text</th>\n",
       "      <th>embeddings</th>\n",
       "    </tr>\n",
       "  </thead>\n",
       "  <tbody>\n",
       "    <tr>\n",
       "      <th>0</th>\n",
       "      <td>OpenAI is an American artificial intelligence ...</td>\n",
       "      <td>[-0.0933873, -0.07241815, -0.02766451, -0.0787...</td>\n",
       "    </tr>\n",
       "    <tr>\n",
       "      <th>1</th>\n",
       "      <td>\\nOpenAI was founded in 2015 by Ilya Sutskever...</td>\n",
       "      <td>[0.14573932, 0.25977483, 0.4820659, 0.07460609...</td>\n",
       "    </tr>\n",
       "    <tr>\n",
       "      <th>2</th>\n",
       "      <td>Microsoft provided OpenAI LP with a $1 billio...</td>\n",
       "      <td>[-0.13870591, 0.3027339, 0.2933645, 0.2538226,...</td>\n",
       "    </tr>\n",
       "    <tr>\n",
       "      <th>3</th>\n",
       "      <td>According an investigation led by TechCrunch,...</td>\n",
       "      <td>[-0.011180686, 0.22425674, -0.12160659, 0.2025...</td>\n",
       "    </tr>\n",
       "    <tr>\n",
       "      <th>4</th>\n",
       "      <td>According to Wired, Brockman met with Yoshua B...</td>\n",
       "      <td>[0.1161643, 0.19548754, -0.052780043, 0.302446...</td>\n",
       "    </tr>\n",
       "    <tr>\n",
       "      <th>...</th>\n",
       "      <td>...</td>\n",
       "      <td>...</td>\n",
       "    </tr>\n",
       "    <tr>\n",
       "      <th>67</th>\n",
       "      <td>Microscope was created to analyze the feature...</td>\n",
       "      <td>[0.059010543, -0.38252774, 0.40526044, 0.04978...</td>\n",
       "    </tr>\n",
       "    <tr>\n",
       "      <th>68</th>\n",
       "      <td>Also revealed in 2021, CLIP does the opposite:...</td>\n",
       "      <td>[-0.22941588, -0.32944718, 0.21696362, -0.0690...</td>\n",
       "    </tr>\n",
       "    <tr>\n",
       "      <th>69</th>\n",
       "      <td>It can create images of realistic objects (\"a...</td>\n",
       "      <td>[0.17072138, -0.027752336, 0.17155954, -0.2389...</td>\n",
       "    </tr>\n",
       "    <tr>\n",
       "      <th>70</th>\n",
       "      <td>In December 2022, OpenAI published on GitHub ...</td>\n",
       "      <td>[-0.7152545, -0.13176711, 0.28895915, 0.001053...</td>\n",
       "    </tr>\n",
       "    <tr>\n",
       "      <th>71</th>\n",
       "      <td>ChatGPT reached 1 million users 5 days after ...</td>\n",
       "      <td>[-0.27171797, -0.22134925, 0.8388051, 0.133332...</td>\n",
       "    </tr>\n",
       "  </tbody>\n",
       "</table>\n",
       "<p>72 rows × 2 columns</p>\n",
       "</div>"
      ],
      "text/plain": [
       "                                                 text  \\\n",
       "0   OpenAI is an American artificial intelligence ...   \n",
       "1   \\nOpenAI was founded in 2015 by Ilya Sutskever...   \n",
       "2    Microsoft provided OpenAI LP with a $1 billio...   \n",
       "3    According an investigation led by TechCrunch,...   \n",
       "4   According to Wired, Brockman met with Yoshua B...   \n",
       "..                                                ...   \n",
       "67   Microscope was created to analyze the feature...   \n",
       "68  Also revealed in 2021, CLIP does the opposite:...   \n",
       "69   It can create images of realistic objects (\"a...   \n",
       "70   In December 2022, OpenAI published on GitHub ...   \n",
       "71   ChatGPT reached 1 million users 5 days after ...   \n",
       "\n",
       "                                           embeddings  \n",
       "0   [-0.0933873, -0.07241815, -0.02766451, -0.0787...  \n",
       "1   [0.14573932, 0.25977483, 0.4820659, 0.07460609...  \n",
       "2   [-0.13870591, 0.3027339, 0.2933645, 0.2538226,...  \n",
       "3   [-0.011180686, 0.22425674, -0.12160659, 0.2025...  \n",
       "4   [0.1161643, 0.19548754, -0.052780043, 0.302446...  \n",
       "..                                                ...  \n",
       "67  [0.059010543, -0.38252774, 0.40526044, 0.04978...  \n",
       "68  [-0.22941588, -0.32944718, 0.21696362, -0.0690...  \n",
       "69  [0.17072138, -0.027752336, 0.17155954, -0.2389...  \n",
       "70  [-0.7152545, -0.13176711, 0.28895915, 0.001053...  \n",
       "71  [-0.27171797, -0.22134925, 0.8388051, 0.133332...  \n",
       "\n",
       "[72 rows x 2 columns]"
      ]
     },
     "execution_count": 314,
     "metadata": {},
     "output_type": "execute_result"
    }
   ],
   "source": [
    "# creating data frame with splitted sentences and corresonding tokens\n",
    "embed_df = pd.DataFrame(sentences, columns = ['text'])\n",
    "embed_df['embeddings'] = df.text.apply(lambda x: model.encode(x))\n",
    "embed_df\n",
    "    "
   ]
  },
  {
   "cell_type": "markdown",
   "metadata": {},
   "source": [
    "# Similarity Search"
   ]
  },
  {
   "cell_type": "markdown",
   "metadata": {},
   "source": [
    "### Cosine Similarity"
   ]
  },
  {
   "cell_type": "code",
   "execution_count": 315,
   "metadata": {},
   "outputs": [],
   "source": [
    "import torch\n",
    "import numpy as np\n",
    "from sentence_transformers import util\n",
    "question = \"\"\"who founded openai\"\"\"\n",
    "embed_q = model.encode(question)"
   ]
  },
  {
   "cell_type": "code",
   "execution_count": 316,
   "metadata": {},
   "outputs": [
    {
     "data": {
      "text/plain": [
       "5"
      ]
     },
     "execution_count": 316,
     "metadata": {},
     "output_type": "execute_result"
    }
   ],
   "source": [
    "top_k = min(5, len(sentences))\n",
    "top_k\n"
   ]
  },
  {
   "cell_type": "code",
   "execution_count": 317,
   "metadata": {},
   "outputs": [
    {
     "data": {
      "text/plain": [
       "torch.return_types.topk(\n",
       "values=tensor([0.8864, 0.8769, 0.8531, 0.8458, 0.8336]),\n",
       "indices=tensor([ 1,  0,  6, 15, 19]))"
      ]
     },
     "execution_count": 317,
     "metadata": {},
     "output_type": "execute_result"
    }
   ],
   "source": [
    "cosine_scores = util.cos_sim(embed_q,embeddings)[0]\n",
    "top_results = torch.topk(cosine_scores, k=5)\n",
    "top_results\n"
   ]
  },
  {
   "cell_type": "markdown",
   "metadata": {},
   "source": [
    "# Retreiving Context and Feeding to LLM"
   ]
  },
  {
   "cell_type": "code",
   "execution_count": 328,
   "metadata": {},
   "outputs": [],
   "source": [
    "context =\"\"\n",
    "for i in top_results.indices:\n",
    "    # print(embed_df['text'][i.item()])\n",
    "    context += embed_df['text'][i.item()] + \" \""
   ]
  },
  {
   "cell_type": "markdown",
   "metadata": {},
   "source": [
    "### HF QA Pipeline"
   ]
  },
  {
   "cell_type": "code",
   "execution_count": 337,
   "metadata": {},
   "outputs": [
    {
     "data": {
      "text/plain": [
       "{'score': 0.03824403136968613,\n",
       " 'start': 249,\n",
       " 'end': 262,\n",
       " 'answer': 'board members'}"
      ]
     },
     "execution_count": 337,
     "metadata": {},
     "output_type": "execute_result"
    }
   ],
   "source": [
    "from transformers import pipeline\n",
    "qa_model = pipeline(\"question-answering\", model='deepset/roberta-base-squad2')\n",
    "qa_model(question=\"what is connection between Elon Musk and OpenAI?\", context = context)"
   ]
  },
  {
   "cell_type": "code",
   "execution_count": null,
   "metadata": {},
   "outputs": [],
   "source": []
  }
 ],
 "metadata": {
  "kernelspec": {
   "display_name": "Python 3.8.10 ('gbot': venv)",
   "language": "python",
   "name": "python3"
  },
  "language_info": {
   "codemirror_mode": {
    "name": "ipython",
    "version": 3
   },
   "file_extension": ".py",
   "mimetype": "text/x-python",
   "name": "python",
   "nbconvert_exporter": "python",
   "pygments_lexer": "ipython3",
   "version": "3.8.10"
  },
  "orig_nbformat": 4,
  "vscode": {
   "interpreter": {
    "hash": "3340d3386eaa1e7b4644afb63b60cd429f5fb630c6bbfe3aa9fe2329bec53262"
   }
  }
 },
 "nbformat": 4,
 "nbformat_minor": 2
}
